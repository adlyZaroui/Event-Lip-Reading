{
 "cells": [
  {
   "cell_type": "markdown",
   "metadata": {},
   "source": [
    "***\n",
    "\n",
    "# Event Lip Reading\n",
    "\n",
    "**Author**: Adly Zaroui\n",
    "\n",
    "The \"Event Lip Reading\" project aims to develop a system that can recognize and interpret lip movements from event-based sensor data. Event-based sensors are capable of capturing high-frequency changes in luminosity, making them ideal for applications that require a high refresh rate. In this project, the event data consists of tuples containing the pixel coordinates, polarity (increase or decrease in luminosity), and timestamp of each event.\n",
    "\n",
    "The goal of the project is to classify these events and extract meaningful information from them. This can be achieved by aggregating the events into superframes, converting them into images, and applying various image processing techniques. The project involves tasks such as loading the event data, converting events to images, creating animations from the images, and aggregating events into superframes.\n",
    "\n",
    "By analyzing the lip movements captured by the event-based sensor, the system can potentially be used for lip reading applications, speech recognition, and other related tasks. The project utilizes Python, pandas, numpy, matplotlib, and other libraries to process and visualize the event data.\n",
    "\n",
    "To analyze event data, there is mainly 2 ways: the first one is to convert the events into conventional video data (sequence of images - sequence of matrices of pixels values) then apply conventional video classification algorithms. The first path that we will dive into is to treat event data as they are: multivariate time series, then explore classification techniques on mulitvariate time series.\n",
    "\n",
    "***"
   ]
  },
  {
   "cell_type": "markdown",
   "metadata": {},
   "source": [
    "First, let's define a function that loads the data and then use it to load he data:"
   ]
  },
  {
   "cell_type": "code",
   "execution_count": null,
   "metadata": {},
   "outputs": [],
   "source": [
    "from utils import load_data\n",
    "\n",
    "# Define the base paths\n",
    "train_base_path = 'train10/train10/'\n",
    "test_base_path = '/test10/test10/'\n",
    "\n",
    "# Define the class folders\n",
    "class_folders = ['Addition', 'Carnaval', 'Decider', 'Ecole', 'Fillette', 'Huitre', 'Joyeux', 'Musique', 'Pyjama', 'Ruisseau']\n",
    "\n",
    "# Load the training and test data\n",
    "x_train = load_data(train_base_path, class_folders)\n",
    "#x_test = load_data(test_base_path)\n",
    "\n",
    "# Create target data\n",
    "y_train = [i for i in range(10) for _ in range(32)]"
   ]
  },
  {
   "cell_type": "markdown",
   "metadata": {},
   "source": [
    "## Visualization\n",
    "\n",
    "***\n",
    "Now let's plot an image from an event dataframe:"
   ]
  },
  {
   "cell_type": "code",
   "execution_count": null,
   "metadata": {},
   "outputs": [],
   "source": [
    "import matplotlib.pyplot as plt\n",
    "import pandas as pd\n",
    "from utils import events_to_image\n",
    "\n",
    "column_names = ['x', 'y', 'p', 't']\n",
    "test_event_df = pd.read_csv('train10/train10/Addition/0.csv', header=None, names=column_names) # Load the first file as a sample\n",
    "\n",
    "test_images = events_to_image(test_event_df) # Convert the events to an image \n",
    "\n",
    "# Display an example image\n",
    "plt.imshow(test_images, cmap='gray')\n",
    "plt.show()"
   ]
  },
  {
   "cell_type": "markdown",
   "metadata": {},
   "source": [
    "***\n",
    "Now let's define some functions convert an event dataframe into a sequence of images, incrisignly *w.r.t.* timestamp"
   ]
  },
  {
   "cell_type": "code",
   "execution_count": null,
   "metadata": {},
   "outputs": [],
   "source": [
    "''' Define the superframes '''\n",
    "\n",
    "from utils import decompose_events, event_agg_polarity\n",
    "import pandas as pd\n",
    "\n",
    "column_names = ['x', 'y', 'p', 't']\n",
    "test_event_df = pd.read_csv('train10/train10/Addition/0.csv', header=None, names=column_names) # Load the first file as a sample\n",
    "\n",
    "x, y, p, t = decompose_events(test_event_df)\n",
    "\n",
    "negative_superframes, positive_superframes = event_agg_polarity(x, y, p, t)\n"
   ]
  },
  {
   "cell_type": "code",
   "execution_count": null,
   "metadata": {},
   "outputs": [],
   "source": [
    "''' Watch the superframes '''\n",
    "    \n",
    "from matplotlib import cm\n",
    "from matplotlib import animation\n",
    "from IPython.display import HTML, display\n",
    "    \n",
    "frames = [] # for storing the generated images\n",
    "fig = plt.figure()\n",
    "for i in range(negative_superframes.shape[0]):\n",
    "    frames.append([plt.imshow(negative_superframes[i], cmap = cm.Greys_r, animated = True)])\n",
    "\n",
    "ani = animation.ArtistAnimation(fig, frames, interval = 50, blit = False, repeat_delay = 1000)\n",
    "plt.close(fig)  # close the figure\n",
    "\n",
    "# center the animation\n",
    "display(HTML(ani.to_jshtml()), metadata=dict(horizontal_center=True))"
   ]
  },
  {
   "cell_type": "code",
   "execution_count": null,
   "metadata": {},
   "outputs": [],
   "source": [
    "import matplotlib.pyplot as plt\n",
    "import matplotlib.animation as animation\n",
    "from matplotlib import cm\n",
    "from IPython.display import HTML, display\n",
    "\n",
    "fig, ax = plt.subplots(figsize=(6, 4))  # Create a single subplot\n",
    "\n",
    "# Remove the margins on the x and y axes\n",
    "ax.margins(x=0, y=0)\n",
    "\n",
    "# Assuming superframes[0] and superframes[1] are your two sets of frames for the animations\n",
    "img1 = ax.imshow(negative_superframes[0], cmap = cm.Greys_r, vmin=-1, vmax=0, animated = True, label='negative_superframes')\n",
    "img2 = ax.imshow(positive_superframes[0], cmap = cm.Blues, vmin=0, vmax=1, animated = True, label='positive_superframes')\n",
    "\n",
    "def update(i):\n",
    "    \n",
    "    '''\n",
    "    \n",
    "    Update the image for iteration `i` \n",
    "    \n",
    "    parameters:\n",
    "        i (int): The iteration number.\n",
    "    \n",
    "    returns:\n",
    "        img1 (matplotlib.image.AxesImage): The updated image.\n",
    "        img2 (matplotlib.image.AxesImage): The updated image.\n",
    "        \n",
    "    '''\n",
    "    img1.set_array(negative_superframes[i])\n",
    "    img2.set_array(positive_superframes[i])\n",
    "    return img1, img2\n",
    "\n",
    "ani = animation.FuncAnimation(fig, update, frames=range(min(len(negative_superframes), len(positive_superframes))), blit=False, repeat_delay=1000)\n",
    "\n",
    "# Add title and labels\n",
    "ax.set_title('\\'Addition\\' utterance')\n",
    "\n",
    "# Add legend\n",
    "ax.legend()\n",
    "\n",
    "# Add caption\n",
    "fig.text(0.5, 0.01, 'This animation is derived from an event DataFrame that has been transformed into a standard video format.', ha='center', fontsize=7.5)\n",
    "\n",
    "plt.close(fig)  # close the figure\n",
    "\n",
    "# center the animation\n",
    "display(HTML(ani.to_jshtml()), metadata=dict(horizontal_center=True))\n",
    "\n",
    "# save the animation as a gif\n",
    "#ani.save('figures/readme_animation.gif', writer='imagemagick', fps=60)"
   ]
  },
  {
   "cell_type": "markdown",
   "metadata": {},
   "source": [
    "***\n",
    "## PCA"
   ]
  },
  {
   "cell_type": "code",
   "execution_count": null,
   "metadata": {},
   "outputs": [],
   "source": [
    "from sklearn.preprocessing import StandardScaler\n",
    "from sklearn.decomposition import PCA\n",
    "\n",
    "window_size = 5 # window size for smoothing\n",
    "# Denoise and compute statistics for each DataFrame\n",
    "flat_agg_x_train = []\n",
    "for event_df in x_train:\n",
    "    event_df_smooth = event_df.rolling(window_size).mean().dropna()\n",
    "\n",
    "    stats = event_df_smooth.agg(['mean', 'std', 'max', 'min', 'skew', 'kurt', 'median', 'sem'])\n",
    "    flat_agg_x_train.append(stats.values.flatten())\n",
    "        \n",
    "scaler = StandardScaler()\n",
    "x_train_scaled = scaler.fit_transform(flat_agg_x_train)\n",
    "\n",
    "# Apply PCA\n",
    "pca = PCA(n_components=0.95)  # Keep 95% of variance\n",
    "pca_x_train = pca.fit_transform(x_train_scaled)"
   ]
  },
  {
   "cell_type": "code",
   "execution_count": null,
   "metadata": {},
   "outputs": [],
   "source": [
    "import matplotlib.pyplot as plt\n",
    "from matplotlib import cm\n",
    "\n",
    "# Create a scatter plot of the first two principal components\n",
    "scatter = plt.scatter(pca_x_train[:, 0], pca_x_train[:, 1], c=y_train, cmap=cm.Set1)\n",
    "\n",
    "# Add a colorbar\n",
    "cbar = plt.colorbar(scatter)\n",
    "cbar.set_label('Classes')\n",
    "\n",
    "# Add a title and labels\n",
    "plt.title('PCA of x_train')\n",
    "plt.xlabel('First Principal Component')\n",
    "plt.ylabel('Second Principal Component')\n",
    "\n",
    "# Show the plot\n",
    "plt.show()"
   ]
  },
  {
   "cell_type": "code",
   "execution_count": null,
   "metadata": {},
   "outputs": [],
   "source": [
    "pca.n_components_"
   ]
  },
  {
   "cell_type": "code",
   "execution_count": null,
   "metadata": {},
   "outputs": [],
   "source": []
  }
 ],
 "metadata": {
  "kernelspec": {
   "display_name": "env",
   "language": "python",
   "name": "python3"
  },
  "language_info": {
   "codemirror_mode": {
    "name": "ipython",
    "version": 3
   },
   "file_extension": ".py",
   "mimetype": "text/x-python",
   "name": "python",
   "nbconvert_exporter": "python",
   "pygments_lexer": "ipython3",
   "version": "3.12.0"
  }
 },
 "nbformat": 4,
 "nbformat_minor": 2
}
