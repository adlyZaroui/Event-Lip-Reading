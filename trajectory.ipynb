{
 "cells": [
  {
   "cell_type": "markdown",
   "metadata": {},
   "source": [
    "In this notebook we will look at the trajectories of event data, as well as some techniques we can use to visualize it in a relevant and insightly way.\n",
    "\n",
    "But first let's define the term trajectory:\n",
    "\n",
    "> **Definition**: given an event function $t>0\\mapsto (x(t),\\ y(t),\\ p(t))$ , we call the $x$ trajectory the function $t\\mapsto x(t)$ and the $y$ trajectory the function $t\\mapsto y(t)$.\n",
    "\n",
    "Here, given the collection $(x_i, y_i, p_i, t_i)_{1\\leq i\\leq n}$, we consider $t_i\\mapsto x_i$ and $t_i\\mapsto y_i$ as a noisy sample of the true $x$ and $y$ trajectories"
   ]
  },
  {
   "cell_type": "markdown",
   "metadata": {},
   "source": []
  }
 ],
 "metadata": {
  "kernelspec": {
   "display_name": ".venv",
   "language": "python",
   "name": "python3"
  },
  "language_info": {
   "name": "python",
   "version": "3.12.0"
  }
 },
 "nbformat": 4,
 "nbformat_minor": 2
}
