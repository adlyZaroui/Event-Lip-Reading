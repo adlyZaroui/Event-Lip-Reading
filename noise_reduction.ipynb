{
 "cells": [
  {
   "cell_type": "markdown",
   "metadata": {},
   "source": [
    "# Noise reduction on event data\n",
    "\n",
    "In this notebook , we will demonstrate the application of both common and event-specific noise reduction techniques. We will vizualize some results and compare different methods to maximize the effectiveness of the noise reduction feature, which is specifically designed for event data.\n",
    "\n",
    "<br>\n",
    "\n",
    "***"
   ]
  },
  {
   "cell_type": "markdown",
   "metadata": {},
   "source": []
  }
 ],
 "metadata": {
  "language_info": {
   "name": "python"
  }
 },
 "nbformat": 4,
 "nbformat_minor": 2
}
